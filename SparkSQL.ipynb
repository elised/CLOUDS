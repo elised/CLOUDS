{
 "cells": [
  {
   "cell_type": "markdown",
   "metadata": {},
   "source": [
    "In this notebook, we will learn how to use the DataFrame API and SparkSQL to perform simple data analytics tasks.\n",
    "\n",
    "# Goals\n",
    "The main goals of this notebook are the following:\n",
    "\n",
    "1. Understand the advantages and disadvantages of using DataFrame over RDD\n",
    "2. Analyze the airline data with the DataFrame API and SparkSQL\n",
    "\n",
    "# Steps\n",
    "- First, in section 1, we will go through a short introduction about the DataFrame API with a small example to see how can we use it and how it compares to the low-level RDD abstraction.\n",
    "- In section 2, we delve into the details of the use case of this notebook including: providing the context, introducing the data\n",
    "- In section 3, we perform data exploration and analysis\n",
    "\n",
    "\n",
    "# 1. RDD and DataFrame APIs\n",
    "In our previous notebooks, we have worked with RDDs (Resilient Distributed Dataset), the basic abstraction in Spark. The main reason is due to the task at hand: we have been invovled in the design of distributed algorithms.\n",
    "\n",
    "In this laboratory session, we study (or revisit) the DataFrame API - an immutable distributed collection of data. DataFrames allow developers to impose a structure on a distributed collection of data, allowing higher-level abstraction; in addition, DataFrames provide a domain specific language (DSL) API to manipulate distributed, structured data. Ultimately, the goal is to make Spark accessible to a wider audience, beyond researchers and specialized data engineers.\n",
    "\n",
    "Let's take a small example to see the difference between RDDs and DataFrames. The two cells below contain short code snippets that perform the same task: count the frequency of words in a document, then sort the result in descending order. The first snippet is the same you have been working on in the very first notebook of the CLOUDS course. The second code snippet uses the DataFrame API."
   ]
  },
  {
   "cell_type": "markdown",
   "metadata": {},
   "source": [
    "<div class=\"alert alert-block alert-info\">\n",
    "<b>Question 1.</b> Run both approaches (RDD and DataFrame) detailed below, compare their runtime, and discuss. Is the DataFrame API approach faster? Can you explain why?"
   ]
  },
  {
   "cell_type": "code",
   "execution_count": 1,
   "metadata": {},
   "outputs": [
    {
     "name": "stdout",
     "output_type": "stream",
     "text": [
      "Runtime: 1240.2871398925781s\n",
      "[(29556020, 'the'), (18043957, 'of'), (14914748, 'and'), (12892052, 'to'), (9779124, 'a')]\n"
     ]
    }
   ],
   "source": [
    "import time\n",
    "time_start = time.time()\n",
    "words = (\n",
    "            # read the text file\n",
    "            sc.textFile(\"/datasets/gutenberg/gutenberg_small.txt\").repartition(16)\n",
    "            \n",
    "            # construct words from lines\n",
    "            .flatMap(lambda line: line.split())\n",
    "            \n",
    "            # map each word to (word, 1)\n",
    "            .map(lambda x: (x, 1))\n",
    "    \n",
    "            # reduce by key: accumulate sum the freq of the same word\n",
    "            .reduceByKey(lambda freq1, freq2: freq1 + freq2)\n",
    "            \n",
    "            # swap (word, freq) to (freq, word)\n",
    "            .map(lambda x: (x[1], x[0]))\n",
    "    \n",
    "            # sort result by key DESC\n",
    "            .sortByKey(False)\n",
    "         )\n",
    "print(\"Runtime: {}s\".format(time.time() - time_start))\n",
    "print(words.take(5))"
   ]
  },
  {
   "cell_type": "code",
   "execution_count": 2,
   "metadata": {},
   "outputs": [
    {
     "name": "stdout",
     "output_type": "stream",
     "text": [
      "+----+--------+\n",
      "|word|   count|\n",
      "+----+--------+\n",
      "| the|29556020|\n",
      "|  of|18043957|\n",
      "|    |16611988|\n",
      "| and|14914748|\n",
      "|  to|12892052|\n",
      "+----+--------+\n",
      "only showing top 5 rows\n",
      "\n",
      "Runtime: 94.57860517501831s\n"
     ]
    }
   ],
   "source": [
    "from pyspark.sql.types import *\n",
    "from pyspark.sql import SQLContext\n",
    "from pyspark.sql.functions import explode, split, desc\n",
    "sqlContext = SQLContext(sc)\n",
    "time_start = time.time()\n",
    "\n",
    "# read the text file\n",
    "df = sqlContext.read.text(\"/datasets/gutenberg/gutenberg_small.txt\")\n",
    "\n",
    "# show 3 samples\n",
    "# df.show(3)\n",
    "\n",
    "result = (\n",
    "    # split into words\n",
    "    df.select(explode(split(df.value, \"\\s+|\\t+\")).alias('word'))\n",
    "    \n",
    "    # group by each word\n",
    "    .groupBy(['word'])\n",
    "    \n",
    "    # count the freq\n",
    "    .count()\n",
    "    \n",
    "    # sort the result\n",
    "    .orderBy(desc(\"count\"))\n",
    ")\n",
    "\n",
    "result.show(5)\n",
    "print(\"Runtime: {}s\".format(time.time() - time_start))"
   ]
  },
  {
   "cell_type": "markdown",
   "metadata": {},
   "source": [
    "## Comments¶\n",
    "The DataFrame approach took 128.5 seconds, while the RDD approach took 210.5 seconds. The DataFrame approach is faster because of the structure that is imposed on the data when it is read which allows certain operations to be optimized."
   ]
  },
  {
   "cell_type": "markdown",
   "metadata": {},
   "source": [
    "# 2. Analysis of flight data using the DataFrame API and SparkSQL\n",
    "## Use case\n",
    "In this notebook, we play the role of a data scientist working in the travel industry, specifically on air transportation of passengers. We want to explore the data collected by the Department of Transportation (DoT) to understand passengers' behavior, as well as the properties of all flights, across several airline companies.\n",
    "\n",
    "The dataset provided by the DoT has 29 features, that can be either categorical or numerical. For example, the src_airport (source airport) is categorical: there exist no comparison operator between airport names. We can not say \"SGN is bigger than NCE\". The departure_time feature is numerical, for which a comparison operator exists. For instance, \"flight departing before 6PM\" can be express by \"departure_time < 1800\".\n",
    "\n",
    "In this use case, most features are numerical, except carrier, flight_number, cancelled, cancelation_code and diverted. The data contains a header, that is useless when analyzing the data: it serves the purpose of an \"embedded schema\", to help data scientist figure out what information is available. Note that there are some features with missing values in some lines of the dataset. The missing values are marked by \"NA\". These values can cause problems when processing the data and can lead to unexpected results. Therefore, we need to remove the header and replace all \"NA\" values by empty values, such as they can be interpreted as null values.\n",
    "\n",
    "## DataFrame\n",
    "As we have seen already, there are multiple ways to manipulate data:\n",
    "- Using the RDD abstraction\n",
    "- Using the DataFrame abstraction.\n",
    "\n",
    "A DataFrame is a distributed collection of data organized into named columns. It is based on the data frame concept in R language or in Pandas for Python. In some sense, it is similar to a table in a relational database: each item is a list of values (the columns). Also, the value in each row of each column can be accessed by the column's name.\n",
    "\n",
    "To use DataFrames, the data should be clean (no invalid values). That means we cannot create DataFrame directly from the \"RAW\" data. Instead, we will first create an RDD from RAW data, produce a new, clean RDD, then transform it to a DataFrame and work on it. The RDD cleaned_data is an RDD[String]. We need to transform it to RDD[(TypeOfColumn1, TypeOfColumn2, ..., TypeOfColumn29)] then call a function to create a DataFrame from the new RDD. Please note that, package com.databricks.spark.csv can really help us to load the data efficiently without concerns about parsing, conversions, etc... However, the CSV package can have some problems when loading not well-formatted data or the data that has many kinds of missing values. The guidelines defined this notebook are a general way to help you work with any data.\n",
    "\n",
    "DataFrames can be constructed from a wide array of sources such as: structured data files, tables in Hive, external databases, or existing RDDs.\n",
    "\n",
    "During the labs in this course, we will mainly work with CSV data files. So, in the next sections, we only focus on constructing dataframes from structured data files directly and from existing RDD.\n",
    "\n",
    "### Constructing a DataFrame directly from structured data file\n",
    "To construct DataFrame from a structured file directly, the file type must be supported. Currently, Spark supports csv, json, avro and many more. Among these types, the csv type is one of the most popular in data analytics. A DataFrame is constructed from csv files by using the package spark-csv from Databricks."
   ]
  },
  {
   "cell_type": "code",
   "execution_count": 3,
   "metadata": {},
   "outputs": [],
   "source": [
    "from pyspark.sql import SQLContext\n",
    "from pyspark.sql.types import *\n",
    "\n",
    "sqlContext = SQLContext(sc)\n",
    "\n",
    "df = sqlContext.read.load('/datasets/airline/1994.csv', \n",
    "    format='com.databricks.spark.csv', \n",
    "    header='true', \n",
    "    inferSchema='true',\n",
    "    nullValue='NA'\n",
    ")"
   ]
  },
  {
   "cell_type": "markdown",
   "metadata": {},
   "source": [
    "Using the function load parametrized with com.databricks.spark.csv, we ask the SqlContext to use the parser from the DataBricks package. Additionally, we can specify whether the file has a header, or ask the parser to guess the data type of columns automatically. The parsed data types is viewed using the function printSchema."
   ]
  },
  {
   "cell_type": "code",
   "execution_count": 4,
   "metadata": {},
   "outputs": [
    {
     "name": "stdout",
     "output_type": "stream",
     "text": [
      "root\n",
      " |-- Year: integer (nullable = true)\n",
      " |-- Month: integer (nullable = true)\n",
      " |-- DayofMonth: integer (nullable = true)\n",
      " |-- DayOfWeek: integer (nullable = true)\n",
      " |-- DepTime: integer (nullable = true)\n",
      " |-- CRSDepTime: integer (nullable = true)\n",
      " |-- ArrTime: integer (nullable = true)\n",
      " |-- CRSArrTime: integer (nullable = true)\n",
      " |-- UniqueCarrier: string (nullable = true)\n",
      " |-- FlightNum: integer (nullable = true)\n",
      " |-- TailNum: string (nullable = true)\n",
      " |-- ActualElapsedTime: integer (nullable = true)\n",
      " |-- CRSElapsedTime: integer (nullable = true)\n",
      " |-- AirTime: string (nullable = true)\n",
      " |-- ArrDelay: integer (nullable = true)\n",
      " |-- DepDelay: integer (nullable = true)\n",
      " |-- Origin: string (nullable = true)\n",
      " |-- Dest: string (nullable = true)\n",
      " |-- Distance: integer (nullable = true)\n",
      " |-- TaxiIn: string (nullable = true)\n",
      " |-- TaxiOut: string (nullable = true)\n",
      " |-- Cancelled: integer (nullable = true)\n",
      " |-- CancellationCode: string (nullable = true)\n",
      " |-- Diverted: integer (nullable = true)\n",
      " |-- CarrierDelay: string (nullable = true)\n",
      " |-- WeatherDelay: string (nullable = true)\n",
      " |-- NASDelay: string (nullable = true)\n",
      " |-- SecurityDelay: string (nullable = true)\n",
      " |-- LateAircraftDelay: string (nullable = true)\n",
      "\n"
     ]
    }
   ],
   "source": [
    "df.printSchema()"
   ]
  },
  {
   "cell_type": "markdown",
   "metadata": {},
   "source": [
    "As you can see, the automatically inferred data types are not as expected. For example, we expect that CRSDepTime to be of interger type. The type and the name of each column can be modified using function withColumn and withColumnRename respectively. Additionally, we can also compute and print basic descriptive statistics of numerical columns via the function describe (similar to Pandas)."
   ]
  },
  {
   "cell_type": "code",
   "execution_count": 5,
   "metadata": {},
   "outputs": [
    {
     "name": "stdout",
     "output_type": "stream",
     "text": [
      "root\n",
      " |-- Year: integer (nullable = true)\n",
      " |-- Month: integer (nullable = true)\n",
      " |-- DayofMonth: integer (nullable = true)\n",
      " |-- DayOfWeek: integer (nullable = true)\n",
      " |-- DepTime: integer (nullable = true)\n",
      " |-- scheduled_departure_time: integer (nullable = true)\n",
      " |-- ArrTime: integer (nullable = true)\n",
      " |-- CRSArrTime: integer (nullable = true)\n",
      " |-- UniqueCarrier: string (nullable = true)\n",
      " |-- FlightNum: integer (nullable = true)\n",
      " |-- TailNum: string (nullable = true)\n",
      " |-- ActualElapsedTime: integer (nullable = true)\n",
      " |-- CRSElapsedTime: integer (nullable = true)\n",
      " |-- AirTime: string (nullable = true)\n",
      " |-- ArrDelay: integer (nullable = true)\n",
      " |-- DepDelay: integer (nullable = true)\n",
      " |-- Origin: string (nullable = true)\n",
      " |-- Dest: string (nullable = true)\n",
      " |-- Distance: integer (nullable = true)\n",
      " |-- TaxiIn: string (nullable = true)\n",
      " |-- TaxiOut: string (nullable = true)\n",
      " |-- Cancelled: integer (nullable = true)\n",
      " |-- CancellationCode: string (nullable = true)\n",
      " |-- Diverted: integer (nullable = true)\n",
      " |-- CarrierDelay: string (nullable = true)\n",
      " |-- WeatherDelay: string (nullable = true)\n",
      " |-- NASDelay: string (nullable = true)\n",
      " |-- SecurityDelay: string (nullable = true)\n",
      " |-- LateAircraftDelay: string (nullable = true)\n",
      "\n",
      "+-------+-------+-----------------+------------------+------------------+------------------+------------------------+------------------+-----------------+-------------+-----------------+-------+------------------+------------------+-------+-----------------+------------------+-------+-------+-----------------+------+-------+--------------------+----------------+--------------------+------------+------------+--------+-------------+-----------------+\n",
      "|summary|   Year|            Month|        DayofMonth|         DayOfWeek|           DepTime|scheduled_departure_time|           ArrTime|       CRSArrTime|UniqueCarrier|        FlightNum|TailNum| ActualElapsedTime|    CRSElapsedTime|AirTime|         ArrDelay|          DepDelay| Origin|   Dest|         Distance|TaxiIn|TaxiOut|           Cancelled|CancellationCode|            Diverted|CarrierDelay|WeatherDelay|NASDelay|SecurityDelay|LateAircraftDelay|\n",
      "+-------+-------+-----------------+------------------+------------------+------------------+------------------------+------------------+-----------------+-------------+-----------------+-------+------------------+------------------+-------+-----------------+------------------+-------+-------+-----------------+------+-------+--------------------+----------------+--------------------+------------+------------+--------+-------------+-----------------+\n",
      "|  count|5180048|          5180048|           5180048|           5180048|           5113308|                 5180048|           5101202|          5180048|      5180048|          5180048|      0|           5101202|           5180048|      0|          5101202|           5113308|5180048|5180048|          5157099|     0|      0|             5180048|               0|             5180048|           0|           0|       0|            0|                0|\n",
      "|   mean| 1994.0|6.579943853802127|15.723382486031017|3.9516016067804776| 1345.266130849149|      1338.6794068317513|1494.4365151585841|1495.874874904634|         null|920.2637743897354|   null|114.00258860558746|114.82526995888841|   null|5.662489742613603|  6.65992152242736|   null|   null|670.7402911985982|  null|   null|0.012884050495284986|            null|0.002337043981059635|        null|        null|    null|         null|             null|\n",
      "| stddev|    0.0|3.436720373974637| 8.788272360339212|1.9902384397190065|470.22426611386146|      463.61750114772104|  483.984955904281|472.6701494862173|         null|608.1342943927972|   null| 64.88861058427706| 64.20406191593874|   null|23.61815604081688|22.226297708488598|   null|   null|522.2696688890817|  null|   null| 0.11277435077764802|            null|0.048286464527841806|        null|        null|    null|         null|             null|\n",
      "|    min|   1994|                1|                 1|                 1|                 1|                       1|                 1|                1|           AA|                1|   null|               -40|                -5|   null|             -115|              -109|    ABE|    ABE|               11|  null|   null|                   0|            null|                   0|        null|        null|    null|         null|             null|\n",
      "|    max|   1994|               12|                31|                 7|              2400|                    2400|              2400|             2400|           WN|             3599|   null|               740|               578|   null|             1313|              1439|    YAK|    YAK|             4502|  null|   null|                   1|            null|                   1|        null|        null|    null|         null|             null|\n",
      "+-------+-------+-----------------+------------------+------------------+------------------+------------------------+------------------+-----------------+-------------+-----------------+-------+------------------+------------------+-------+-----------------+------------------+-------+-------+-----------------+------+-------+--------------------+----------------+--------------------+------------+------------+--------+-------------+-----------------+\n",
      "\n"
     ]
    }
   ],
   "source": [
    "df = (df\n",
    "          # change type of column CRSDepTime by casting its values to interger type\n",
    "          .withColumn('CRSDepTime', df.CRSDepTime.cast('int'))\n",
    "\n",
    "          # rename the column\n",
    "          .withColumnRenamed('CRSDepTime', 'scheduled_departure_time')\n",
    "    )\n",
    "\n",
    "# print schema of the current data\n",
    "df.printSchema()\n",
    "\n",
    "# run jobs to calculate basic statistic information and show it\n",
    "df.describe().show()"
   ]
  },
  {
   "cell_type": "markdown",
   "metadata": {},
   "source": [
    "### Constructing a DataFrame from an existing RDD\n",
    "Another way to construct a DataFrame is using data from an existing RDD. The main advantage of this approach is that it does not need a third party library. However, with this method, we have to remove the header ourself and provide a clear schema."
   ]
  },
  {
   "cell_type": "code",
   "execution_count": 6,
   "metadata": {},
   "outputs": [],
   "source": [
    "from pyspark.sql import SQLContext\n",
    "from pyspark.sql.types import *\n",
    "from pyspark.sql.functions import explode, split, desc, col, udf, round\n",
    "from pyspark import SparkContext\n",
    "from pyspark.sql import Row\n",
    "from pyspark.sql.functions import *\n",
    "%matplotlib inline\n",
    "import matplotlib.pyplot as plt\n",
    "import matplotlib.colors as mcolors\n",
    "import pandas as pd\n",
    "import numpy as np\n",
    "import pyspark.sql.functions as func\n",
    "import matplotlib.patches as mpatches\n",
    "import seaborn as sns\n",
    "\n",
    "\n",
    "sqlContext = SQLContext(sc)\n",
    "\n",
    "data = sc.textFile('/datasets/airline/1994.csv')\n",
    "\n",
    "# extract the header\n",
    "header = data.first()\n",
    "\n",
    "# replace invalid data with NULL and remove header\n",
    "cleaned_data = (\n",
    "        data\n",
    "    \n",
    "        # filter out the header\n",
    "        .filter(lambda line: line != header)\n",
    "    \n",
    "         # replace the 'missing data' by empty value\n",
    "        .map(lambda line: ','.join(list(map(lambda x: x if x != 'NA' else '',line.split(',')))))\n",
    "    )\n",
    "\n",
    "airline_data_schema = StructType([ \\\n",
    "    #StructField( name, dataType, nullable)\n",
    "    StructField(\"year\",                     IntegerType(), True), \\\n",
    "    StructField(\"month\",                    IntegerType(), True), \\\n",
    "    StructField(\"day_of_month\",             IntegerType(), True), \\\n",
    "    StructField(\"day_of_week\",              IntegerType(), True), \\\n",
    "    StructField(\"departure_time\",           IntegerType(), True), \\\n",
    "    StructField(\"scheduled_departure_time\", IntegerType(), True), \\\n",
    "    StructField(\"arrival_time\",             IntegerType(), True), \\\n",
    "    StructField(\"scheduled_arrival_time\",   IntegerType(), True), \\\n",
    "    StructField(\"carrier\",                  StringType(),  True), \\\n",
    "    StructField(\"flight_number\",            StringType(),  True), \\\n",
    "    StructField(\"tail_number\",              StringType(), True), \\\n",
    "    StructField(\"actual_elapsed_time\",      IntegerType(), True), \\\n",
    "    StructField(\"scheduled_elapsed_time\",   IntegerType(), True), \\\n",
    "    StructField(\"air_time\",                 IntegerType(), True), \\\n",
    "    StructField(\"arrival_delay\",            IntegerType(), True), \\\n",
    "    StructField(\"departure_delay\",          IntegerType(), True), \\\n",
    "    StructField(\"src_airport\",              StringType(),  True), \\\n",
    "    StructField(\"dest_airport\",             StringType(),  True), \\\n",
    "    StructField(\"distance\",                 IntegerType(), True), \\\n",
    "    StructField(\"taxi_in_time\",             IntegerType(), True), \\\n",
    "    StructField(\"taxi_out_time\",            IntegerType(), True), \\\n",
    "    StructField(\"cancelled\",                StringType(),  True), \\\n",
    "    StructField(\"cancellation_code\",        StringType(),  True), \\\n",
    "    StructField(\"diverted\",                 StringType(),  True), \\\n",
    "    StructField(\"carrier_delay\",            IntegerType(), True), \\\n",
    "    StructField(\"weather_delay\",            IntegerType(), True), \\\n",
    "    StructField(\"nas_delay\",                IntegerType(), True), \\\n",
    "    StructField(\"security_delay\",           IntegerType(), True), \\\n",
    "    StructField(\"late_aircraft_delay\",      IntegerType(), True)\\\n",
    "])"
   ]
  },
  {
   "cell_type": "code",
   "execution_count": 7,
   "metadata": {},
   "outputs": [],
   "source": [
    "# convert each line into a tuple of features (columns) with the corresponding data type\n",
    "cleaned_data_to_columns = (\n",
    "    cleaned_data.map(lambda l: l.split(\",\"))\n",
    "    .map(lambda cols: \n",
    "         (\n",
    "            int(cols[0])  if cols[0] else None,\n",
    "            int(cols[1])  if cols[1] else None,\n",
    "            int(cols[2])  if cols[2] else None,\n",
    "            int(cols[3])  if cols[3] else None,\n",
    "            int(cols[4])  if cols[4] else None,\n",
    "            int(cols[5])  if cols[5] else None,\n",
    "            int(cols[6])  if cols[6] else None,\n",
    "            int(cols[7])  if cols[7] else None,\n",
    "            cols[8]       if cols[8] else None,\n",
    "            cols[9]       if cols[9] else None,\n",
    "            cols[10]      if cols[10] else None,\n",
    "            int(cols[11]) if cols[11] else None,\n",
    "            int(cols[12]) if cols[12] else None,\n",
    "            int(cols[13]) if cols[13] else None,\n",
    "            int(cols[14]) if cols[14] else None,\n",
    "            int(cols[15]) if cols[15] else None,\n",
    "            cols[16]      if cols[16] else None,\n",
    "            cols[17]      if cols[17] else None,\n",
    "            int(cols[18]) if cols[18] else None,\n",
    "            int(cols[19]) if cols[19] else None,\n",
    "            int(cols[20]) if cols[20] else None,\n",
    "            cols[21]      if cols[21] else None,\n",
    "            cols[22]      if cols[22] else None,\n",
    "            cols[23]      if cols[23] else None,\n",
    "            int(cols[24]) if cols[24] else None,\n",
    "            int(cols[25]) if cols[25] else None,\n",
    "            int(cols[26]) if cols[26] else None,\n",
    "            int(cols[27]) if cols[27] else None,\n",
    "            int(cols[28]) if cols[28] else None\n",
    "         ))             \n",
    ")\n",
    "    \n",
    "# create dataframe\n",
    "df = sqlContext.createDataFrame(cleaned_data_to_columns, airline_data_schema)\\\n",
    "    .select(['year', 'month', 'day_of_month', 'day_of_week',\n",
    "            'scheduled_departure_time','scheduled_arrival_time',\n",
    "            'arrival_delay', 'distance', \n",
    "            'src_airport', 'dest_airport', 'carrier'])\\\n",
    "    .cache()"
   ]
  },
  {
   "cell_type": "markdown",
   "metadata": {},
   "source": [
    "### Examples\n",
    "Using the contructed DataFrame, we can answer some simple questions:\n",
    "\n",
    "- How many night flights do we have in our data?\n",
    "- How many night flights per unique carrier?\n",
    "NOTE: We define \"night\" to start at 6pm."
   ]
  },
  {
   "cell_type": "code",
   "execution_count": 8,
   "metadata": {},
   "outputs": [
    {
     "data": {
      "text/plain": [
       "1078203"
      ]
     },
     "execution_count": 8,
     "metadata": {},
     "output_type": "execute_result"
    }
   ],
   "source": [
    "df[df.scheduled_departure_time > 1800].count()"
   ]
  },
  {
   "cell_type": "code",
   "execution_count": 9,
   "metadata": {},
   "outputs": [
    {
     "data": {
      "text/plain": [
       "[Row(carrier='DL', count=208224),\n",
       " Row(carrier='US', count=170397),\n",
       " Row(carrier='AA', count=142832),\n",
       " Row(carrier='WN', count=124024),\n",
       " Row(carrier='UA', count=113640),\n",
       " Row(carrier='NW', count=100453),\n",
       " Row(carrier='CO', count=94501),\n",
       " Row(carrier='TW', count=54771),\n",
       " Row(carrier='HP', count=44351),\n",
       " Row(carrier='AS', count=25010)]"
      ]
     },
     "execution_count": 9,
     "metadata": {},
     "output_type": "execute_result"
    }
   ],
   "source": [
    "df[df.scheduled_departure_time > 1800].groupBy(df.carrier).count().orderBy('count', ascending=0).collect()"
   ]
  },
  {
   "cell_type": "markdown",
   "metadata": {},
   "source": [
    "# 3. Data exploration\n",
    "Next, we will go over a series of simple queries on our data, to perform exploration and compute statistics using the DataFrame API and SparkSQL. These queries directly map to the questions you need to answer.\n",
    "\n",
    "<b>NOTE:</b> finding the right question to ask is difficult! Don't be afraid to complement the questions below, with your own questions that, in your opinion, are valuable ways to inspect data.\n",
    "\n",
    "Basic queries:\n",
    "- How many unique origin airports?\n",
    "- How many unique destination airports?\n",
    "- How many carriers?\n",
    "- How many flights that have a scheduled departure time later than 18h00?\n",
    "\n",
    "Statistics on flight volume: this kind of statistics are helpful to reason about delays. Indeed, it is plausible to assume that \"the more flights in an airport, the higher the probability of delay\".\n",
    "- How many flights in each month of the year?\n",
    "- Is there any relationship between the number of flights and the days of week?\n",
    "- How many flights in different days of months and in different hours of days?\n",
    "- Which are the top 20 busiest airports (this depends on inbound and outbound traffic)?\n",
    "- Which are the top 20 busiest carriers?\n",
    "\n",
    "Statistics on the fraction of delayed flights\n",
    "- What is the percentage of delayed flights (over total flights) for different hours of the day?\n",
    "- Which hours of the day are characterized by the longest flight delay?\n",
    "- What are the fluctuation of the percentage of delayed flights over different time granularities?\n",
    "- What is the percentage of delayed flights which depart from one of the top 20 busiest airports?\n",
    "- What is the percentage of delayed flights which belong to one of the top 20 busiest carriers?"
   ]
  },
  {
   "cell_type": "markdown",
   "metadata": {},
   "source": [
    "## Question 2: Basic queries\n",
    "### Question 2.1\n",
    "<div class=\"alert alert-block alert-info\">\n",
    "How many origin airports? How many destination airports? Discuss the results, indicating any discrepancies or strange facts about the data."
   ]
  },
  {
   "cell_type": "code",
   "execution_count": 10,
   "metadata": {},
   "outputs": [
    {
     "name": "stdout",
     "output_type": "stream",
     "text": [
      "Count of source airports:\n",
      "224\n",
      "Count of destination airports:\n",
      "225\n"
     ]
    }
   ],
   "source": [
    "srcAirportCount = df.groupBy(\"src_airport\").count().count()\n",
    "print(\"Count of source airports:\")\n",
    "print(srcAirportCount)\n",
    "destAirportCount = df.groupBy(\"dest_airport\").count().count()\n",
    "print(\"Count of destination airports:\")\n",
    "print(destAirportCount)"
   ]
  },
  {
   "cell_type": "markdown",
   "metadata": {},
   "source": [
    "### Comments\n",
    "From our query, we have 224 origin airports and 225 destination airports. It is strange that there is a difference of 1 between these two counts, however this could be because of an error in the input data. Alternatively there could just be an airport where there are no outgoing planes."
   ]
  },
  {
   "cell_type": "markdown",
   "metadata": {},
   "source": [
    "### Question 2.2\n",
    "<div class=\"alert alert-block alert-info\">\n",
    "How many unique carriers are present in the data?"
   ]
  },
  {
   "cell_type": "code",
   "execution_count": 11,
   "metadata": {},
   "outputs": [
    {
     "name": "stdout",
     "output_type": "stream",
     "text": [
      "Count of unique carriers:\n",
      "10\n"
     ]
    }
   ],
   "source": [
    "uniqueCarrierCount = df.groupBy(\"carrier\").count().count()\n",
    "print(\"Count of unique carriers:\")\n",
    "print(uniqueCarrierCount)"
   ]
  },
  {
   "cell_type": "markdown",
   "metadata": {},
   "source": [
    "### Question 2.3\n",
    "<div class=\"alert alert-block alert-info\">\n",
    "- How many night flights (that is, flights departing later than 6pm or earlier than 6am)?\n",
    "- What is the percentage of night flights over the total volume of flights\n",
    "\n",
    "\n",
    "NOTE: Here we're using a more refined definition of what is a night flight, than in our earlier examples."
   ]
  },
  {
   "cell_type": "code",
   "execution_count": 12,
   "metadata": {},
   "outputs": [
    {
     "name": "stdout",
     "output_type": "stream",
     "text": [
      "Number of night flights\n",
      "1121918\n",
      "Total number of flights\n",
      "5180048\n",
      "Percentage of night flights\n",
      "21.658447952605844\n"
     ]
    }
   ],
   "source": [
    "nightFlightCount = df.filter((df['scheduled_departure_time'] > 1800) | (df['scheduled_departure_time'] < 600)).count()\n",
    "print(\"Number of night flights\")\n",
    "print(nightFlightCount)\n",
    "totalFlights = df.count()\n",
    "print(\"Total number of flights\")\n",
    "print(totalFlights)\n",
    "print(\"Percentage of night flights\")\n",
    "print(nightFlightCount*100/totalFlights)"
   ]
  },
  {
   "cell_type": "markdown",
   "metadata": {},
   "source": [
    "## Question 3: Flight volume statistics\n",
    "### Question 3.1\n",
    "<div class=\"alert alert-block alert-info\">\n",
    "How many flights in each month of the year? Plot the changes over months by a line chart and comment the figure. \n",
    "From the result, we can learn the dynamics of flight volume over months. For example, if we only consider flights in 1994 (to start, it's always better to focus on smaller amount of data), we can discuss about which months are most likely to have flights experiencing delays."
   ]
  },
  {
   "cell_type": "code",
   "execution_count": 13,
   "metadata": {},
   "outputs": [
    {
     "name": "stdout",
     "output_type": "stream",
     "text": [
      "+-----+------+\n",
      "|month| count|\n",
      "+-----+------+\n",
      "|    1|423861|\n",
      "|    2|386954|\n",
      "|    3|435516|\n",
      "|    4|420995|\n",
      "|    5|436432|\n",
      "|    6|426490|\n",
      "|    7|443736|\n",
      "|    8|451086|\n",
      "|    9|430861|\n",
      "|   10|449369|\n",
      "|   11|428227|\n",
      "|   12|446521|\n",
      "+-----+------+\n",
      "\n",
      "None\n"
     ]
    },
    {
     "data": {
      "image/png": "[encoded data removed]",
      "text/plain": [
       "<Figure size 432x288 with 1 Axes>"
      ]
     },
     "metadata": {},
     "output_type": "display_data"
    }
   ],
   "source": [
    "import matplotlib.pyplot as plt\n",
    "flightsPerMonth = df.groupBy(\"month\").count().orderBy('month', ascending=1)\n",
    "print(flightsPerMonth.show())\n",
    "flightsPerMonth = df.groupBy(\"month\").count().orderBy('month', ascending=1).collect()\n",
    "listOfMonths = [month[0] for month in flightsPerMonth]\n",
    "countOfFlights = [month[1] for month in flightsPerMonth]\n",
    "\n",
    "plt.plot(listOfMonths,countOfFlights)\n",
    "plt.title(\"Flights Per Month\")\n",
    "plt.xlabel(\"Months\")\n",
    "plt.ylabel(\"Number of Flights\")\n",
    "plt.show()"
   ]
  },
  {
   "cell_type": "markdown",
   "metadata": {},
   "source": [
    "### Comments\n",
    "From the graph we see that August, October, and December have the highest flight volumes. Because of this, these months might experience more delays than in February (the month with the lowest number of flights), which is something worth looking into further. However, it's important to note that there are only 28 days in February, so just looking at the raw count of flights (instead of dividing it by the number of days in each month) could be misleading. We see less pronounced, but similar effects of less flights on the months with only 30 days vs 31, with the exception of January, which is similar to a 30-day month, perhaps because of reduced flights on New Years Eve."
   ]
  },
  {
   "cell_type": "markdown",
   "metadata": {},
   "source": [
    "### Question 3.2:\n",
    "<div class=\"alert alert-block alert-info\">\n",
    "Is there any relationship between the number of flights and the days of the week? Plot a bar chart and interpret the figure. \n",
    "\n",
    "\n",
    "<b>NOTE:</b> You should study both global aggregates (irrespectively of the month of the year), and monthly aggregates (day statistics, for each different month of the year). \n",
    "\n",
    "By answering this question, we could learn about the importance of the weekend/weekday feature for our predictive task."
   ]
  },
  {
   "cell_type": "code",
   "execution_count": 14,
   "metadata": {},
   "outputs": [
    {
     "name": "stdout",
     "output_type": "stream",
     "text": [
      "+-----------+------+\n",
      "|day_of_week| count|\n",
      "+-----------+------+\n",
      "|          1|754636|\n",
      "|          2|756532|\n",
      "|          3|756864|\n",
      "|          4|751537|\n",
      "|          5|751531|\n",
      "|          6|695245|\n",
      "|          7|713703|\n",
      "+-----------+------+\n",
      "\n",
      "None\n",
      "listOfWeekdays\n",
      "[1, 2, 3, 4, 5, 6, 7]\n",
      "countOfFlights\n",
      "[754636, 756532, 756864, 751537, 751531, 695245, 713703]\n"
     ]
    },
    {
     "data": {
      "image/png": "[encoded data removed]",
      "text/plain": [
       "<Figure size 432x288 with 1 Axes>"
      ]
     },
     "metadata": {},
     "output_type": "display_data"
    },
    {
     "data": {
      "image/png": "[encoded data removed]",
      "text/plain": [
       "<Figure size 432x288 with 1 Axes>"
      ]
     },
     "metadata": {},
     "output_type": "display_data"
    }
   ],
   "source": [
    "flightsPerWeekday = df.groupBy(\"day_of_week\").count().orderBy('day_of_week', ascending=1)\n",
    "print(flightsPerWeekday.show())\n",
    "flightsPerWeekday = df.groupBy(\"day_of_week\").count().orderBy('day_of_week', ascending=1).collect()\n",
    "listOfWeekdays = [day[0] for day in flightsPerWeekday]\n",
    "countOfFlights = [day[1] for day in flightsPerWeekday]\n",
    "print(\"listOfWeekdays\")\n",
    "print(listOfWeekdays)\n",
    "print(\"countOfFlights\")\n",
    "print(countOfFlights)\n",
    "\n",
    "fig, ax = plt.subplots()\n",
    "width = 0.35\n",
    "counts = ax.bar(listOfWeekdays, countOfFlights, width)\n",
    "ax.set_title(\"Flights Per Weekday\")\n",
    "ax.set_xlabel(\"Weekdays\")\n",
    "ax.set_ylabel(\"Number of Flights\")\n",
    "plt.show()\n",
    "\n",
    "monthlyCounts = []\n",
    "for month in range(1,13):\n",
    "    monthlyCounts.append(df[df.month == month].groupBy(\"day_of_week\").count().orderBy('day_of_week', ascending=1).collect())\n",
    "\n",
    "fig, ax = plt.subplots()\n",
    "\n",
    "width = 0.1\n",
    "monthOffset = 10\n",
    "for month in range(1,13):\n",
    "    listOfWeekdays = [day[0] for day in monthlyCounts[month-1]]\n",
    "    countOfFlights = [day[1] for day in monthlyCounts[month-1]]\n",
    "    fullListOfWeekdays = [newPos + (month-1)*monthOffset for newPos in listOfWeekdays]\n",
    "    counts = ax.bar(fullListOfWeekdays, countOfFlights, width, label=month,color='r')\n",
    "\n",
    "\n",
    "ax.set_xticks([3.5 + monthOffset*p for p in range(12)])\n",
    "xticks = range(1,13)\n",
    "ax.set_xticklabels(xticks)\n",
    "\n",
    "ax.set_title(\"Flights Per Month Per Weekday\")\n",
    "ax.set_xlabel(\"Months (Broken out by Weekday)\")\n",
    "ax.set_ylabel(\"Number of Flights\")\n",
    "plt.show()"
   ]
  },
  {
   "cell_type": "markdown",
   "metadata": {},
   "source": [
    "### Comments\n",
    "Note: We are assuming the week starts off with Monday = 1, going to Sunday = 7.<br>\n",
    "From the first graph (aggregated by day of the week), we see that Saturday and Sunday have the fewest flights.<br>\n",
    "However, when looking at the data further broken down by month, we see that the trend of decreased Saturday/Sunday flights is not reflected on a monthly basis. There is no clear trend for all the months. For example, in January we see that Sunday has the second highest number of flights. Similarly, in October we see Sunday and Saturday have the second and third highest number of flights respectively."
   ]
  },
  {
   "cell_type": "markdown",
   "metadata": {},
   "source": [
    "### Question 3.3:\n",
    "<div class=\"alert alert-block alert-info\">\n",
    "How many flights in different days of months and in different hours of days? \n",
    "\n",
    "<b>NOTE:</b> Similarly to the previous note, you need to compute both global statistcs and monthly statistics. \n",
    "\n",
    "Plot bar charts, and interpret your figures."
   ]
  },
  {
   "cell_type": "code",
   "execution_count": null,
   "metadata": {},
   "outputs": [
    {
     "data": {
      "image/png": "[encoded data removed]",
      "text/plain": [
       "<Figure size 432x288 with 1 Axes>"
      ]
     },
     "metadata": {},
     "output_type": "display_data"
    },
    {
     "data": {
      "image/png": "[encoded data removed]",
      "text/plain": [
       "<Figure size 1440x1080 with 1 Axes>"
      ]
     },
     "metadata": {},
     "output_type": "display_data"
    },
    {
     "data": {
      "image/png": "[encoded data removed]",
      "text/plain": [
       "<Figure size 432x288 with 1 Axes>"
      ]
     },
     "metadata": {},
     "output_type": "display_data"
    }
   ],
   "source": [
    "import math\n",
    "flightsPerDayOfMonth = df.groupby(\"day_of_month\").count().orderBy('day_of_month', ascending=1).collect()\n",
    "\n",
    "listOfDaysInMonth = [month[0] for month in flightsPerDayOfMonth]\n",
    "countOfFlightsMonthly = [month[1] for month in flightsPerDayOfMonth]\n",
    "\n",
    "\n",
    "## FIRST GRAPH\n",
    "fig, ax = plt.subplots()\n",
    "width = 0.25\n",
    "counts = ax.bar(listOfDaysInMonth, countOfFlightsMonthly, width)\n",
    "ax.set_title(\"Flights Per Day of Month\")\n",
    "ax.set_xlabel(\"Days of Month\")\n",
    "ax.set_ylabel(\"Number of Flights\")\n",
    "plt.show()\n",
    "\n",
    "\n",
    "## 2ND GRAPH\n",
    "monthlyCounts = []\n",
    "for month in range(1,13):\n",
    "    monthlyCounts.append(df[df.month == month].groupBy(\"day_of_month\").count().orderBy('day_of_month', ascending=1).collect())\n",
    "\n",
    "fig, ax = plt.subplots()\n",
    "width = 0.1\n",
    "monthOffset = 35\n",
    "for month in range(1,13):\n",
    "    listOfDays = [day[0] for day in monthlyCounts[month-1]]\n",
    "    countOfFlights = [day[1] for day in monthlyCounts[month-1]]\n",
    "    fullListOfDays = [newPos + (month-1)*monthOffset for newPos in listOfDays]\n",
    "    counts = ax.bar(fullListOfDays, countOfFlights, width, label=month,color='r')\n",
    "\n",
    "\n",
    "ax.set_xticks([3.5 + monthOffset*p for p in range(12)])\n",
    "xticks = range(1,13)\n",
    "ax.set_xticklabels(xticks)\n",
    "\n",
    "ax.set_title(\"Flights Per Month Per Day of Month\")\n",
    "ax.set_xlabel(\"Months (Broken out by Day of Month)\")\n",
    "ax.set_ylabel(\"Number of Flights\")\n",
    "fig.set_size_inches(20, 15)\n",
    "plt.show()\n",
    "\n",
    "\n",
    "## 3RD GRAPH \n",
    "flightsPerHour = df.groupBy(\"scheduled_departure_time\").count().orderBy('scheduled_departure_time', ascending=1).collect()\n",
    "\n",
    "listOfHours = list(range(0,24))\n",
    "countOfFlightsPerHour = [0] * 24\n",
    "# here need to sum these up according to the hour that is /100 from 0th elt\n",
    "listOfTimes = [math.floor(hour[0]/100) for hour in flightsPerHour]\n",
    "listOfFlightsByTime = [hour[1] for hour in flightsPerHour]\n",
    "\n",
    "\n",
    "for idx, elt in enumerate(listOfTimes):\n",
    "    if elt == 24:\n",
    "        elt = 0\n",
    "        \n",
    "    countOfFlightsPerHour[elt] += listOfFlightsByTime[idx]\n",
    "    \n",
    "\n",
    "fig, ax = plt.subplots()\n",
    "width = 0.25\n",
    "counts = ax.bar(listOfHours, countOfFlightsPerHour, width)\n",
    "ax.set_title(\"Flights Per Hour\")\n",
    "ax.set_xlabel(\"Hours\")\n",
    "ax.set_ylabel(\"Number of Flights\")\n",
    "plt.show()\n",
    "\n",
    "## 4th GRAPH\n",
    "hourlyDF1 = df.withColumn(\"scheduled_departure_time\", (df.scheduled_departure_time/100).cast('int')) # NOTE: here hourlyDF1 uses sched dep time, to be same as before, different than below\n",
    "\n",
    "monthlyCounts = []\n",
    "for month in range(1,13):\n",
    "    monthlyCounts.append(hourlyDF1[hourlyDF1.month == month].groupBy(\"scheduled_departure_time\").count().orderBy('scheduled_departure_time', ascending=1).collect())\n",
    "\n",
    "fig, ax = plt.subplots()\n",
    "width = 0.1\n",
    "monthOffset = 30\n",
    "for month in range(1,13):\n",
    "    listOfDays = [day[0] for day in monthlyCounts[month-1]]\n",
    "    countOfFlights = [day[1] for day in monthlyCounts[month-1]]\n",
    "    fullListOfDays = [newPos + (month-1)*monthOffset for newPos in listOfDays]\n",
    "    counts = ax.bar(fullListOfDays, countOfFlights, width, label=month,color='r')\n",
    "\n",
    "\n",
    "ax.set_xticks([3.5 + monthOffset*p for p in range(12)])\n",
    "xticks = range(1,13)\n",
    "ax.set_xticklabels(xticks)\n",
    "\n",
    "ax.set_title(\"Flights Per Month Per Hour of Day\")\n",
    "ax.set_xlabel(\"Months (Broken out by Hour of Day)\")\n",
    "ax.set_ylabel(\"Number of Flights\")\n",
    "fig.set_size_inches(20, 15)\n",
    "plt.show()"
   ]
  },
  {
   "cell_type": "markdown",
   "metadata": {},
   "source": [
    "### Comments\n",
    "In the figure showing number of flights broken out by day, there is not a major difference between days 1-28. However, since not all months have more than 28 days, there is a drop off starting from the 29th and dropping off even further on the 31st.\n",
    "When breaking it out by months, we see that there is a consistent cyclical trend which likely correlates to the higher number of flights during the business week compared to the weekend. We also see a sharp dip for a few days in the end of November and December, which must be because of the lower number of flights on the days of Thanksgiving and Christmas. In December especially, we actually see an increase in flights before/after the slow period.\n",
    "\n",
    "When looking at the number of flights per hour, we see that there are very few in the early hours of the morning from 12AM to 5AM, but it then rises with the highest number of flights from 7 to 8AM. This is likely due to the number of business travelers who need to take these early flights in order to land at the start of the business day. We see very similar patterns when breaking out the flights per hour by month."
   ]
  },
  {
   "cell_type": "markdown",
   "metadata": {},
   "source": [
    "### Question 3.4:\n",
    "<div class=\"alert alert-block alert-info\">\n",
    "Which are the **top 20** busiest airports? Compute this in terms of the inbound, outbound and total number of flights."
   ]
  },
  {
   "cell_type": "code",
   "execution_count": null,
   "metadata": {},
   "outputs": [],
   "source": [
    "print(\"Busiest by # of Outbound Flights\")\n",
    "srcDF = df.groupBy(\"src_airport\").count().orderBy('count', ascending=0)\n",
    "srcDF.show()\n",
    "srcDF = srcDF.withColumnRenamed(\"src_airport\",\"airport\")\n",
    "srcDF = srcDF.withColumnRenamed(\"count\",\"src_count\")\n",
    "\n",
    "print(\"Busiest by # of Inbound Flights\")\n",
    "destDF = df.groupBy(\"dest_airport\").count().orderBy('count', ascending=0)\n",
    "destDF.show()\n",
    "destDF = destDF.withColumnRenamed(\"dest_airport\",\"airport\")\n",
    "\n",
    "print(\"Busiest by # of Total Flights\")\n",
    "totalDF = srcDF.join(destDF,\"airport\")\n",
    "\n",
    "totalDF = totalDF.withColumn(\"count\",totalDF[\"src_count\"] + totalDF[\"count\"]).orderBy('count',ascending=0)\n",
    "totalDF.select([\"airport\",\"count\"]).show()"
   ]
  },
  {
   "cell_type": "markdown",
   "metadata": {},
   "source": [
    "### Question 3.5:\n",
    "<div class=\"alert alert-block alert-info\">\n",
    "Which are the **top 20** busiest carriers? Compute this in terms of number of flights."
   ]
  },
  {
   "cell_type": "code",
   "execution_count": null,
   "metadata": {},
   "outputs": [],
   "source": [
    "df.groupBy(\"carrier\").count().orderBy('count', ascending=0).show()"
   ]
  },
  {
   "cell_type": "markdown",
   "metadata": {},
   "source": [
    "## Question 4: Flight volume statistics\n",
    "### Question 4.1\n",
    "<div class=\"alert alert-block alert-info\">\n",
    "What is the percentage of delayed flights for different hours of the day? Plot a bar chart and interpret the figure. <p>IMPORTANT! A flight is considered as delayed if it's actual arrival time is more than 15 minutes later than the scheduled arrival time."
   ]
  },
  {
   "cell_type": "code",
   "execution_count": null,
   "metadata": {},
   "outputs": [],
   "source": [
    "df.groupBy(\"arrival_delay\").count().collect()\n",
    "listOfHours = list(range(0,24))\n",
    "countOfScheduledFlightsPerHour = [0] * 24\n",
    "countOfDelayedFlightsPerHour = [0] * 24\n",
    "\n",
    "\n",
    "\n",
    "hourlyDF = df.withColumn(\"scheduled_departure_time\", (df.scheduled_departure_time/100).cast(\"int\"))\n",
    "\n",
    "delayedArrivals = hourlyDF[hourlyDF.arrival_delay > 15].groupBy(\"scheduled_departure_time\").count()\n",
    "\n",
    "schedArrivals = hourlyDF.groupBy(\"scheduled_departure_time\").count()\n",
    "\n",
    "listOfScheduledArrivals = schedArrivals.collect()\n",
    "listOfDelayedArrivals = delayedArrivals.collect()\n",
    "# can iterate to get each column, \n",
    "\n",
    "# here need to sum these up according to the hour that is /100 from 0th elt\n",
    "listOfScheduledTimes = [hour[0] for hour in listOfScheduledArrivals] # this is the time\n",
    "listOfScheduledArrivalsByTime = [hour[1] for hour in listOfScheduledArrivals] # this is the count at that time\n",
    "\n",
    "listOfDelayedTimes = [hour[0] for hour in listOfDelayedArrivals]\n",
    "listOfDelayedArrivalsByTime = [hour[1] for hour in listOfDelayedArrivals]\n",
    "\n",
    "#Scheduled\n",
    "for idx, elt in enumerate(listOfScheduledTimes):\n",
    "    if elt == 24:\n",
    "        elt = 0\n",
    "        \n",
    "    countOfScheduledFlightsPerHour[elt] += listOfScheduledArrivalsByTime[idx] \n",
    "\n",
    "#Delayed\n",
    "for idx, elt in enumerate(listOfDelayedTimes):\n",
    "    if elt == 24:\n",
    "        elt = 0\n",
    "        \n",
    "    countOfDelayedFlightsPerHour[elt] += listOfDelayedArrivalsByTime[idx]\n",
    "\n",
    "percentageOfDelayedFlights = [0] * 24\n",
    "for idx in range(24):\n",
    "    percentageOfDelayedFlights[idx] = countOfDelayedFlightsPerHour[idx]*100/countOfScheduledFlightsPerHour[idx]\n",
    "\n",
    "fig, ax = plt.subplots()\n",
    "counts = ax.bar(listOfHours, percentageOfDelayedFlights)\n",
    "ax.set_title(\"Percentage of Delayed Flights by Hour\")\n",
    "ax.set_xlabel(\"Hours\")\n",
    "ax.set_ylabel(\"Percent of Flights\")\n",
    "plt.show()"
   ]
  },
  {
   "cell_type": "markdown",
   "metadata": {},
   "source": [
    "### Comments\n",
    "The percentage of delayed flights by hour seems to reset around 4 AM, where the chance of being delayed is the lowest. From then, the percentage increases until 8 PM, where it then drops off until 4 AM. This is not surprising given that the number of flights from 12 AM to 4 AM is low, giving airline workers a chance to catch up, whereas as airports get busier and flights increase, the delays increase as well. In addition, one delay causes a chain reaction that affects all flights following it, causing further delays, so it makes sense that the percentage of delays increases steadily over the course of the day."
   ]
  },
  {
   "cell_type": "markdown",
   "metadata": {},
   "source": [
    "### Question 4.2\n",
    "<div class=\"alert alert-block alert-info\">\n",
    "You will realize that saying *\"at 4 A.M. there is a very low chance of a flight being delayed\"* is not giving you a full picture of the situation. Indeed, it might be true that there is very little probability for an early flight to be delayed, but if it does, the delay might be huge, like 6 hours!\n",
    "Then, the question is: **which hours of the day are characterized by the largest mean delay?** (you can consider the median too) Plot a Bar chart and explain it."
   ]
  },
  {
   "cell_type": "markdown",
   "metadata": {},
   "source": [
    "With data of year 1994, the flight from 3AM to 4AM often depart earlier than in their schedule. The flights in the morning have less delay then in the afternoon and evening.\n",
    "\n",
    "So, an attentive student should notice here that we have somehow a problem with the definition of delay! Next, we will improve how to represent and visualize data to overcome this problem.\n",
    "\n",
    "NOTE: the following piece of code assumes you correctly answered the previous questions. The naming convention of the DataFrames we use next should be clear enough for you to produce them by answering the questions above."
   ]
  },
  {
   "cell_type": "code",
   "execution_count": null,
   "metadata": {},
   "outputs": [],
   "source": [
    "listOfMeanDelay = [0]*24\n",
    "sumOfDelayedArrivals = [0]*24\n",
    "countList = [0]*24 #temp value of counts, to divide to get mean\n",
    "\n",
    "listOfScheduledArrivalsAndDelays = df.groupBy(\"scheduled_departure_time\",\"arrival_delay\").count().collect()\n",
    "listOfScheduledTimes = [math.floor(hour[0]/100) for hour in listOfScheduledArrivalsAndDelays]\n",
    "minutesInDelayedArrival = [hour[1] for hour in listOfScheduledArrivalsAndDelays]\n",
    "countOfDelayedArrivals = [hour[2] for hour in listOfScheduledArrivalsAndDelays]\n",
    "\n",
    "\n",
    "for idx, elt in enumerate(listOfScheduledTimes):\n",
    "    if elt == 24:\n",
    "        elt = 0\n",
    "    if minutesInDelayedArrival[idx] == None:\n",
    "        minutesInDelayedArrival[idx] = 0\n",
    "    countList[elt] += countOfDelayedArrivals[idx]\n",
    "    sumOfDelayedArrivals[elt] += countOfDelayedArrivals[idx]*minutesInDelayedArrival[idx]\n",
    "    \n",
    "for idx in range(24):\n",
    "    listOfMeanDelay[idx] = sumOfDelayedArrivals[idx]/countList[idx]\n",
    "\n",
    "fig, ax = plt.subplots()\n",
    "counts = ax.bar(listOfHours, listOfMeanDelay)\n",
    "ax.set_title(\"Average Number of Minutes in Delayed Arrival Time by Hour\")\n",
    "ax.set_xlabel(\"Hours\")\n",
    "ax.set_ylabel(\"Average Minutes\")\n",
    "plt.show()"
   ]
  },
  {
   "cell_type": "markdown",
   "metadata": {},
   "source": [
    "### Comments¶\n",
    "The bar chart shows a similar pattern as seen in the percentage of delayed flights over 24 hours, in that it's minimized in the early hours of the morning and then steadily increases until the evening, at which point it starts dropping again. The biggest difference is the \"negative delay\" at 3-4 AM where flights on average depart a few minutes earlier than their scheduled time."
   ]
  },
  {
   "cell_type": "code",
   "execution_count": null,
   "metadata": {},
   "outputs": [],
   "source": [
    "plt.xlabel(\"Hours\")\n",
    "plt.ylabel(\"Ratio of delay\")\n",
    "plt.title('Figure 6: The radio of delay over hours in day')\n",
    "plt.grid(True,which=\"both\",ls=\"-\")\n",
    "bars = plt.bar(listOfHours, percentageOfDelayedFlights, align='center', edgecolor = \"black\")\n",
    "for i in range(0, len(bars)):\n",
    "    color = 'red'\n",
    "    if listOfMeanDelay[i] < 0:\n",
    "        color = 'lightgreen'\n",
    "    elif listOfMeanDelay[i] < 2:\n",
    "        color = 'green'\n",
    "    elif listOfMeanDelay[i] < 4:\n",
    "        color = 'yellow'\n",
    "    elif listOfMeanDelay[i] < 8:\n",
    "        color = 'orange'\n",
    "\n",
    "    bars[i].set_color(color)\n",
    "        \n",
    "patch1 = mpatches.Patch(color='lightgreen', label='Depart earlier')\n",
    "patch2 = mpatches.Patch(color='green', label='delay < 2 minutes')\n",
    "patch3 = mpatches.Patch(color='yellow', label='delay < 4 minutes')\n",
    "patch4 = mpatches.Patch(color='orange', label='delay < 8 minutes')\n",
    "patch5 = mpatches.Patch(color='red', label='delay >= 8 minutes')\n",
    "\n",
    "plt.legend(handles=[patch1, patch2, patch3, patch4, patch5], bbox_to_anchor=(1.05, 1), loc=2, borderaxespad=0.)\n",
    "plt.margins(0.05, 0)\n",
    "plt.show()"
   ]
  },
  {
   "cell_type": "markdown",
   "metadata": {},
   "source": [
    "In the new figure (Figure 6), we have more information in a single plot. The flights in 3AM to 4AM have very low probability of being delayed, and actually depart earlier than their schedule. In contrast, the flights in the 4PM to 8PM range have higher chances of being delayed: in more than 50% of the cases, the delay is 8 minutes or more.\n",
    "\n",
    "This example shows us that the way representing results are also important."
   ]
  },
  {
   "cell_type": "markdown",
   "metadata": {},
   "source": [
    "### Question 4.3\n",
    "<div class=\"alert alert-block alert-info\">\n",
    "Plot a bar chart to show the percentage of delayed flights over days in a month. Discuss your findings from the figure."
   ]
  },
  {
   "cell_type": "code",
   "execution_count": null,
   "metadata": {},
   "outputs": [],
   "source": [
    "hourlyDF = df.withColumn(\"scheduled_departure_time\", (df.scheduled_departure_time/100).cast('int'))\n",
    "\n",
    "delayedArrivalsByMonth = hourlyDF[hourlyDF.arrival_delay > 15].groupBy(\"day_of_month\").count()\n",
    "\n",
    "schedArrivalsByMonth = hourlyDF.groupBy(\"day_of_month\").count()\n",
    "\n",
    "listOfScheduledArrivals = schedArrivalsByMonth.collect()\n",
    "listOfDelayedArrivals = delayedArrivalsByMonth.collect()\n",
    "# can iterate to get each column, \n",
    "\n",
    "listOfDays = list(range(1,32))\n",
    "countOfScheduledFlightsPerDay = [0] * 31\n",
    "countOfDelayedFlightsPerDay = [0] * 31\n",
    "\n",
    "# here need to sum these up according to the hour that is /100 from 0th elt\n",
    "listOfScheduledTimes = [day[0] for day in listOfScheduledArrivals] # this is the time\n",
    "listOfScheduledArrivalsByTime = [day[1] for day in listOfScheduledArrivals] # this is the count at that time\n",
    "\n",
    "listOfDelayedTimes = [day[0] for day in listOfDelayedArrivals]\n",
    "listOfDelayedArrivalsByTime = [day[1] for day in listOfDelayedArrivals]\n",
    "\n",
    "#Scheduled\n",
    "for idx, elt in enumerate(listOfScheduledTimes):\n",
    "    countOfScheduledFlightsPerDay[elt-1] += listOfScheduledArrivalsByTime[idx]\n",
    "\n",
    "#Delayed\n",
    "for idx, elt in enumerate(listOfDelayedTimes):\n",
    "        \n",
    "    countOfDelayedFlightsPerDay[elt-1] += listOfDelayedArrivalsByTime[idx]\n",
    "\n",
    "\n",
    "percentageOfDelayedFlights = [0] * 31\n",
    "for idx in range(31):\n",
    "    percentageOfDelayedFlights[idx] = countOfDelayedFlightsPerDay[idx]*100/countOfScheduledFlightsPerDay[idx]\n",
    "\n",
    "fig, ax = plt.subplots()\n",
    "counts = ax.bar(listOfDays, percentageOfDelayedFlights)\n",
    "ax.set_title(\"Percentage of Delayed Flights by Day\")\n",
    "ax.set_xlabel(\"Days\")\n",
    "ax.set_ylabel(\"Percent of Flights\")\n",
    "plt.show()"
   ]
  },
  {
   "cell_type": "markdown",
   "metadata": {},
   "source": [
    "### Comments\n",
    "There is a higher likelihood of being delayed at the end of each month, although at the very end and the beginning of each month, the likelihood is at its lowest."
   ]
  },
  {
   "cell_type": "markdown",
   "metadata": {},
   "source": [
    "### Question 4.4\n",
    "<div class=\"alert alert-block alert-info\">\n",
    "Plot a bar chart to show the percentage of delayed flights over days in a week. Discuss your findings from the figure."
   ]
  },
  {
   "cell_type": "code",
   "execution_count": null,
   "metadata": {},
   "outputs": [],
   "source": [
    "hourlyDF = df.withColumn(\"scheduled_departure_time\", (df.scheduled_departure_time/100).cast('int'))\n",
    "\n",
    "delayedArrivalsByWeek = hourlyDF[hourlyDF.arrival_delay > 15].groupBy(\"day_of_week\").count()\n",
    "\n",
    "schedArrivalsByWeek = hourlyDF.groupBy(\"day_of_week\").count()\n",
    "\n",
    "listOfScheduledArrivals = schedArrivalsByWeek.collect()\n",
    "listOfDelayedArrivals = delayedArrivalsByWeek.collect()\n",
    "# can iterate to get each column, \n",
    "\n",
    "listOfDays = list(range(1,8))\n",
    "countOfScheduledFlightsPerDay = [0] * 7\n",
    "countOfDelayedFlightsPerDay = [0] * 7\n",
    "\n",
    "# here need to sum these up according to the hour that is /100 from 0th elt\n",
    "listOfScheduledTimes = [day[0] for day in listOfScheduledArrivals] # this is the time\n",
    "listOfScheduledArrivalsByTime = [day[1] for day in listOfScheduledArrivals] # this is the count at that time\n",
    "\n",
    "listOfDelayedTimes = [day[0] for day in listOfDelayedArrivals]\n",
    "listOfDelayedArrivalsByTime = [day[1] for day in listOfDelayedArrivals]\n",
    "\n",
    "#Scheduled\n",
    "for idx, elt in enumerate(listOfScheduledTimes):\n",
    "    countOfScheduledFlightsPerDay[elt-1] += listOfScheduledArrivalsByTime[idx]\n",
    "\n",
    "#Delayed\n",
    "for idx, elt in enumerate(listOfDelayedTimes):\n",
    "        \n",
    "    countOfDelayedFlightsPerDay[elt-1] += listOfDelayedArrivalsByTime[idx]\n",
    "\n",
    "\n",
    "percentageOfDelayedFlights = [0] * 7\n",
    "for idx in range(7):\n",
    "    percentageOfDelayedFlights[idx] = countOfDelayedFlightsPerDay[idx]*100/countOfScheduledFlightsPerDay[idx]\n",
    "\n",
    "fig, ax = plt.subplots()\n",
    "counts = ax.bar(listOfDays, percentageOfDelayedFlights)\n",
    "ax.set_title(\"Percentage of Delayed Flights by Day\")\n",
    "ax.set_xlabel(\"Days\")\n",
    "ax.set_ylabel(\"Percent of Flights\")\n",
    "plt.show()"
   ]
  },
  {
   "cell_type": "markdown",
   "metadata": {},
   "source": [
    "### Comments\n",
    "Over the course of the week, the likelihood of delays is highest in the middle of the week (Wednesdays to Fridays), and lowest on weekends. This could be again related to the number of business flights, since there are more flights in the middle of the week and none over the weekend."
   ]
  },
  {
   "cell_type": "markdown",
   "metadata": {},
   "source": [
    "### Question 4.5\n",
    "<div class=\"alert alert-block alert-info\">\n",
    "Plot a bar chart to show the percentage of delayed flights over months in a year. Discuss your findings from the figure."
   ]
  },
  {
   "cell_type": "code",
   "execution_count": null,
   "metadata": {},
   "outputs": [],
   "source": [
    "hourlyDF = df.withColumn(\"scheduled_departure_time\", (df.scheduled_departure_time/100).cast('int'))\n",
    "\n",
    "delayedArrivalsByMonth = hourlyDF[hourlyDF.arrival_delay > 15].groupBy(\"month\").count()\n",
    "\n",
    "schedArrivalsByMonth = hourlyDF.groupBy(\"month\").count()\n",
    "\n",
    "listOfScheduledArrivals = schedArrivalsByMonth.collect()\n",
    "listOfDelayedArrivals = delayedArrivalsByMonth.collect()\n",
    "# can iterate to get each column\n",
    "\n",
    "listOfMonths = list(range(1,13))\n",
    "countOfScheduledFlightsPerMonth = [0] * 12\n",
    "countOfDelayedFlightsPerMonth = [0] * 12\n",
    "\n",
    "# here need to sum these up according to the hour that is /100 from 0th elt\n",
    "listOfScheduledTimes = [day[0] for day in listOfScheduledArrivals] # this is the time\n",
    "listOfScheduledArrivalsByTime = [day[1] for day in listOfScheduledArrivals] # this is the count at that time\n",
    "\n",
    "listOfDelayedTimes = [day[0] for day in listOfDelayedArrivals]\n",
    "listOfDelayedArrivalsByTime = [day[1] for day in listOfDelayedArrivals]\n",
    "\n",
    "#Scheduled\n",
    "for idx, elt in enumerate(listOfScheduledTimes):\n",
    "    #print(\"elt\")\n",
    "    #print(elt)\n",
    "    countOfScheduledFlightsPerMonth[elt-1] += listOfScheduledArrivalsByTime[idx]\n",
    "\n",
    "#Delayed\n",
    "for idx, elt in enumerate(listOfDelayedTimes):\n",
    "        \n",
    "    countOfDelayedFlightsPerMonth[elt-1] += listOfDelayedArrivalsByTime[idx]\n",
    "\n",
    "percentageOfDelayedFlights = [0] * 12\n",
    "for idx in range(12):\n",
    "    percentageOfDelayedFlights[idx] = countOfDelayedFlightsPerMonth[idx]*100/countOfScheduledFlightsPerMonth[idx]\n",
    "\n",
    "fig, ax = plt.subplots()\n",
    "counts = ax.bar(listOfMonths, percentageOfDelayedFlights)\n",
    "ax.set_title(\"Percentage of Delayed Flights by Month\")\n",
    "ax.set_xlabel(\"Months\")\n",
    "ax.set_ylabel(\"Percent of Flights\")\n",
    "plt.show()"
   ]
  },
  {
   "cell_type": "markdown",
   "metadata": {},
   "source": [
    "We are ready now to draw some observations from our data, even if we have only looked at data coming from a year worth of flights:\n",
    "\n",
    "- The probability for a flight to be delayed is low at the beginning or at the very end of a given months\n",
    "- Flights on two first weekdays and on the weekend, are less likely to be delayed\n",
    "- May and September are very good months for travelling, as the probability of delay is low (remember we're working on US data. Do you think this is also true in France?)\n",
    "\n",
    "Putting things together, we can have a global picture of the whole year!"
   ]
  },
  {
   "cell_type": "markdown",
   "metadata": {},
   "source": [
    "### Comments\n",
    "There are the most delays in January and February, whereas May and September had the least likelihood of being delayed. There is an increase of delays over the summer, perhaps due to the influx of summer vacation travelers. January and February likely had large delays due to inclement weather conditions. We do not have enough data to comment on French airplane delays, however we can speculate that in the US, May and September correspond with the end/beginning of the school year, so there are fewer flights in those months."
   ]
  },
  {
   "cell_type": "code",
   "execution_count": null,
   "metadata": {},
   "outputs": [],
   "source": [
    "df_with_delay = df.withColumn('is_delay', when(df[\"arrival_delay\"] >= 15, 1).otherwise(0))\n",
    "statistic_day = df_with_delay.groupBy(['year','month', 'day_of_month', 'day_of_week'])\\\n",
    "    .agg((func.sum('is_delay')/func.count('*')).alias('delay_ratio'))\n",
    "\n",
    "# assume that we do statistic on year 1994\n",
    "statistic_day = statistic_day\\\n",
    "    .orderBy('year', 'month', 'day_of_month', 'day_of_week')\n",
    "pdf = pd.DataFrame(data=statistic_day.collect())"
   ]
  },
  {
   "cell_type": "code",
   "execution_count": null,
   "metadata": {},
   "outputs": [],
   "source": [
    "fig = plt.figure(figsize=(20,10))                                                             \n",
    "ax = fig.add_subplot(1,1,1)     \n",
    "plt.xlabel(\"Weeks/Months in year\")\n",
    "plt.ylabel(\"Day of weeks (1:Monday -> 7 :Sunday)\")\n",
    "plt.title('Figure 10: The change of number flights over days in year')\n",
    "  \n",
    "rec_size = 0.3\n",
    "from matplotlib.patches import Rectangle\n",
    "import datetime\n",
    "num_days = len(pdf[0])\n",
    "ax.patch.set_facecolor('gray')\n",
    "ax.set_aspect('equal', 'box')\n",
    "ax.xaxis.set_major_locator(plt.NullLocator())\n",
    "ax.yaxis.set_major_locator(plt.NullLocator())\n",
    "\n",
    "for i in range(0, num_days):\n",
    "    # extract information from the result\n",
    "    year = pdf[0][i]\n",
    "    month = pdf[1][i]\n",
    "    day_of_month = pdf[2][i]\n",
    "    day_of_week = pdf[3][i]\n",
    "    day_of_year= datetime.date(year=year, month=month, day=day_of_month).timetuple()\n",
    "    week_of_year = datetime.date(year=year, month=month, day=day_of_month).isocalendar()[1]\n",
    "    \n",
    "    # dealing with the week of the previous year\n",
    "    if week_of_year == 52 and month == 1:\n",
    "        week_of_year = 0\n",
    "        \n",
    "    # the coordinate of a day in graph\n",
    "    X = week_of_year*rec_size\n",
    "    Y = day_of_week*rec_size\n",
    "    \n",
    "    # use different colors to show the delay ratio\n",
    "    color = 'white'\n",
    "    if pdf[4][i] <= 0.084:\n",
    "        color = 'lightyellow'\n",
    "    elif pdf[4][i] <= 0.117:\n",
    "        color = 'lightgreen'\n",
    "    elif pdf[4][i] <= 0.152:\n",
    "        color = 'gold'\n",
    "    elif pdf[4][i] <= 0.201:\n",
    "        color = 'orange'\n",
    "    else:\n",
    "        color = 'red'\n",
    "    rect = plt.Rectangle((X - rec_size/2.0, Y - rec_size/2.0), rec_size, rec_size,\n",
    "                      alpha=1, facecolor=color, edgecolor='whitesmoke')\n",
    "\n",
    "    ax.add_patch(rect)\n",
    "    \n",
    "    # drawing boders to separate months\n",
    "    if day_of_month <= 7:\n",
    "        rect2 = plt.Rectangle((X -rec_size/2.0, Y - rec_size/2.0), 0.01, rec_size,\n",
    "                      alpha=1, facecolor='black')\n",
    "        ax.add_patch(rect2)\n",
    "    if day_of_month == 1:\n",
    "        rect2 = plt.Rectangle((X - rec_size/2.0, Y - rec_size/2.0), rec_size, 0.01,\n",
    "                      alpha=1, facecolor='black')\n",
    "        ax.add_patch(rect2)\n",
    "ax.autoscale_view()\n",
    "\n",
    "patch1 = mpatches.Patch(color='lightyellow', label='delay ratio < 8.4%')\n",
    "patch2 = mpatches.Patch(color='lightgreen', label='delay ratio < 11.7%')\n",
    "patch3 = mpatches.Patch(color='gold', label='delay ratio < 15.2%')\n",
    "patch4 = mpatches.Patch(color='orange', label='delay ratio < 20.1%')\n",
    "patch5 = mpatches.Patch(color='red', label='delay ratio >= 20.1%')\n",
    "\n",
    "plt.legend(handles=[patch1, patch2, patch3, patch4, patch5], bbox_to_anchor=(1.05, 1), loc=2, borderaxespad=0.)\n",
    "\n",
    "plt.show()"
   ]
  },
  {
   "cell_type": "markdown",
   "metadata": {},
   "source": [
    "### Question 4.6\n",
    "<div class=\"alert alert-block alert-info\">\n",
    "What is the delay probability for the top 20 busiest airports? By drawing the flight volume of each airport and the associated delay probability in a single plot, we can observe the relationship between airports, number of flights and the delay. "
   ]
  },
  {
   "cell_type": "code",
   "execution_count": null,
   "metadata": {},
   "outputs": [],
   "source": [
    "#Setting up DF\n",
    "totalDF = totalDF.select([\"airport\",\"count\"])\n",
    "\n",
    "srcDelayDF = df[df.arrival_delay>15].groupBy(\"src_airport\").count()\n",
    "srcDelayDF = srcDelayDF.withColumnRenamed(\"src_airport\",\"airport\")\n",
    "srcDelayDF = srcDelayDF.withColumnRenamed(\"count\",\"src_count\")\n",
    "destDelayDF = df[df.arrival_delay>15].groupBy(\"dest_airport\").count()\n",
    "destDelayDF = destDelayDF.withColumnRenamed(\"dest_airport\",\"airport\")\n",
    "\n",
    "delayDF = srcDelayDF.join(destDelayDF,\"airport\")\n",
    "delayDF = delayDF.withColumn(\"count\",delayDF[\"src_count\"] + delayDF[\"count\"]).orderBy('count',ascending=0)\n",
    "delayDF = delayDF.select([\"airport\",\"count\"])\n",
    "delayDF = delayDF.withColumnRenamed(\"count\", \"delayed_count\")\n",
    "\n",
    "delayRatioDF = totalDF.join(delayDF,\"airport\")\n",
    "delayRatioDF = delayRatioDF.withColumn(\"delayed_count\",delayRatioDF[\"delayed_count\"] / delayRatioDF[\"count\"])\n",
    "delayRatioDF = delayRatioDF.withColumnRenamed(\"delayed_count\", \"delayed_ratio\")\n",
    "delayRatioDF = delayRatioDF.orderBy([\"count\"],ascending=0)\n",
    "\n",
    "listOfAirportsAndDelays = delayRatioDF.collect()\n",
    "listOfAirports = [airport[0] for airport in listOfAirportsAndDelays][:20]\n",
    "listOfAirportCount = [airport[1] for airport in listOfAirportsAndDelays][:20]\n",
    "listOfAirportDelays = [airport[2] for airport in listOfAirportsAndDelays][:20]"
   ]
  },
  {
   "cell_type": "code",
   "execution_count": null,
   "metadata": {},
   "outputs": [],
   "source": [
    "#Plotting \n",
    "fig, ax1 = plt.subplots()\n",
    "\n",
    "my_xticks = listOfAirports\n",
    "\n",
    "\n",
    "x = list(range(20))\n",
    "\n",
    "plt.xticks(x, my_xticks)\n",
    "ax1.plot(x,listOfAirportCount, 'b-')\n",
    "\n",
    "ax2 = ax1.twinx()\n",
    "ax2.plot(x,listOfAirportDelays, 'r-')\n",
    "\n",
    "ax1.set_xlabel('Airport')\n",
    "ax1.set_ylabel('Number of Flights', color='b')\n",
    "ax1.tick_params('y', colors='b')\n",
    "ax2.set_ylabel('Ratio of Delays', color='r')\n",
    "ax2.tick_params('y', colors='r')\n",
    "plt.show()\n"
   ]
  },
  {
   "cell_type": "markdown",
   "metadata": {},
   "source": [
    "### Comments\n",
    "We see that there is no correlation in the number of flights and the ratio of delays, as we see at EWR, where they have fewer than 50% of the flights that ORD has, the percentage of delays is nevertheless almost double the percentage at ORD. Thus we can say that it likely has less to do with the busyness of the airport and more to do with external conditions related to the airport's efficiency."
   ]
  },
  {
   "cell_type": "markdown",
   "metadata": {},
   "source": [
    "### Question 4.7\n",
    "<div class=\"alert alert-block alert-info\">What is the percentage of delayed flights which belong to one of the top 20 busiest carriers? "
   ]
  },
  {
   "cell_type": "code",
   "execution_count": null,
   "metadata": {},
   "outputs": [],
   "source": [
    "carrierDF = df.groupBy(\"carrier\").count().orderBy('count', ascending=0) \n",
    "\n",
    "delayedByCarrierDF = df[df.arrival_delay > 15].groupBy(\"carrier\").count()\n",
    "delayedByCarrierList = delayedByCarrierDF.collect()\n",
    "\n",
    "carriersList = [carrier[0] for carrier in delayedByCarrierList]\n",
    "pctDelayedList = [carrier[1] for carrier in delayedByCarrierList]\n",
    "\n",
    "\n",
    "totalDelayed = df[df.arrival_delay > 15].count()\n",
    "pctDelayedList = [point * 100 / totalDelayed for point in pctDelayedList]\n",
    "\n",
    "fig, ax1 = plt.subplots()\n",
    "\n",
    "my_xticks = carriersList\n",
    "\n",
    "x = list(range(len(carriersList)))\n",
    "\n",
    "plt.xticks(x, my_xticks)\n",
    "ax1.plot(x,pctDelayedList, 'b-')\n",
    "\n",
    "ax1.set_xlabel('Carrier')\n",
    "ax1.set_ylabel('Percent Delayed', color='b')\n",
    "ax1.tick_params('y', colors='b')\n",
    "plt.show()"
   ]
  },
  {
   "cell_type": "markdown",
   "metadata": {},
   "source": [
    "### Comments\n",
    "We see very big differences between carriers, with DL and US having the highest percentage of delayed flights at 18%. Meanwhile, AS had only 2% of flights delayed and HP had just under 4%. Again, we do not see a correlation between carrier size and delays, since DL and US are not the top carriers, and HP is actually bigger than both DL and US."
   ]
  }
 ],
 "metadata": {
  "kernelspec": {
   "display_name": "Python 3",
   "language": "python",
   "name": "python3"
  },
  "language_info": {
   "codemirror_mode": {
    "name": "ipython",
    "version": 3
   },
   "file_extension": ".py",
   "mimetype": "text/x-python",
   "name": "python",
   "nbconvert_exporter": "python",
   "pygments_lexer": "ipython3",
   "version": "3.6.5"
  }
 },
 "nbformat": 4,
 "nbformat_minor": 2
}
